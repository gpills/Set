{
 "cells": [
  {
   "cell_type": "markdown",
   "metadata": {
    "collapsed": false
   },
   "source": [
    "#Set!\n",
    "\n",
    "\n",
    "### In this game, random cards are generated and all possible sets are returned.\n",
    "####To run:\n",
    "  1. Click the \"Cell\" menu and then choose \"Run All\"\n",
    "  2. Use the buttons to evaluate solutions\n",
    "  3. Amend the dimensions you wish to change in the cell below (HOWEVER Only 'shape','color' and 'edge' can be charted)\n",
    "  Table solutions will still be available\n",
    "\n"
   ]
  },
  {
   "cell_type": "code",
   "execution_count": null,
   "metadata": {
    "collapsed": false
   },
   "outputs": [],
   "source": [
    "########################## Inputs ##################################################################################################333\n",
    "\n",
    "\n",
    "CARD_DIMENSIONS = {'shape':['circle','rectangle','wedge','ellipse'], #these need to be entered as a dict object\n",
    "                   'color':list(range(1,5)),\n",
    "                  'edge':['none','thin','thick'],    #edge only has three 'chartable values 'none','thin' and 'thick'\n",
    "                  }\n",
    "\n",
    "NUMBER_OF_CARDS = 15\n",
    "\n",
    "\n",
    "CARDS_IN_A_SET = 3\n",
    "\n",
    "\n",
    "##################################################################################################################################"
   ]
  },
  {
   "cell_type": "markdown",
   "metadata": {},
   "source": [
    "_________________"
   ]
  },
  {
   "cell_type": "code",
   "execution_count": null,
   "metadata": {
    "collapsed": false
   },
   "outputs": [],
   "source": [
    "#Ipython code to hide input cells\n",
    "\n",
    "from IPython.display import HTML\n",
    "HTML('''<script>\n",
    "code_show=true; \n",
    "function code_toggle() {\n",
    " if (code_show){\n",
    " $('div.input').hide();\n",
    " } else {\n",
    " $('div.input').show();\n",
    " }\n",
    " code_show = !code_show\n",
    "} \n",
    "$( document ).ready(code_toggle);\n",
    "</script>\n",
    "<b>To toggle on/off raw code, click</b> <a href=\"javascript:code_toggle()\">here</a>.''')"
   ]
  },
  {
   "cell_type": "code",
   "execution_count": null,
   "metadata": {
    "collapsed": false
   },
   "outputs": [],
   "source": [
    "from pandas import DataFrame\n",
    "from numpy import arange,array,mgrid\n",
    "from numpy.random import choice\n",
    "from copy import copy\n",
    "from itertools import combinations\n",
    "from collections import defaultdict\n",
    "from IPython.display import display, clear_output\n",
    "from IPython.html import widgets\n",
    "from IPython.html.widgets import interact\n",
    "import matplotlib.pyplot as plt\n",
    "import matplotlib.path as mpath\n",
    "import matplotlib.lines as mlines\n",
    "import matplotlib.patches as mpatches\n",
    "from matplotlib.collections import PatchCollection\n",
    "%matplotlib inline  "
   ]
  },
  {
   "cell_type": "code",
   "execution_count": null,
   "metadata": {
    "collapsed": false
   },
   "outputs": [],
   "source": [
    "class Game:\n",
    "    \"\"\"\n",
    "    Creates a dataframe which represents a deck of cards to use in a game of Set! \n",
    "    Returns this deck as both dimensions and values.\n",
    "    ------------------------------------------------------------------------------\n",
    "    Parameters:\n",
    "    dimensions: A dict object with keys corresponding to the dimension name and the values \n",
    "    corresponding to the possible coordinates of that dimension. \n",
    "    For e.g CARD_DIMENSIONS =  {'shape':['square','circles'],'color':['blue','green']}\n",
    "\n",
    "    deck_size: The number of random cards that will be generated.\n",
    "    \n",
    "    \"\"\"\n",
    "    def __init__(self,dimensions={'color':[1,2,3],'shape':['circle','rectangle']},deck_size=25):\n",
    "        self._df_empty = DataFrame(columns=dimensions.keys(),index=arange(deck_size))\n",
    "        self.card_df = self._df_empty.apply(lambda x: choice(dimensions[x.name],deck_size))\n",
    "        self.card_df = self.card_df.drop_duplicates()\n",
    "        self.card_dimensions = dimensions.keys()\n",
    "        self.cards = self.card_df.values\n",
    "    \n",
    "    "
   ]
  },
  {
   "cell_type": "code",
   "execution_count": null,
   "metadata": {
    "collapsed": false
   },
   "outputs": [],
   "source": [
    "class SetSolver:\n",
    "    def __init__(self,cards=[['red','circle'],['blue','circle']],set_size=2):\n",
    "        \"\"\"\n",
    "        Generates the all the possibles sets in a game of Set! \n",
    "        -------------------------------------------------------\n",
    "        Parameters:\n",
    "        cards: Iterable - which represents a collection of cards. for example a list of lists or list of tuples. \n",
    "        set_size: Integer - The size of the set collection.\n",
    "        \"\"\"\n",
    "        self._set_size = set_size\n",
    "        self._cards = cards\n",
    "        \n",
    "        #validate inputs        \n",
    "        try:\n",
    "            self._dimensions = set(len(dim) for dim in cards)\n",
    "        except TypeError:\n",
    "            raise TypeError('Please make sure cards is a nested iterable - eg, list of lists')\n",
    "        \n",
    "        if len(self._dimensions) != 1:\n",
    "            raise ValueError('Please make sure all cards have the same number of dimensions')\n",
    "            \n",
    "        if isinstance(self._set_size, int):\n",
    "            pass\n",
    "        else:\n",
    "            raise ValueError('Please make sure set_size is an integer')\n",
    "                \n",
    "        \n",
    "        # a Set! solution is defined as collection of cards which are all the same across the\n",
    "        # dimensions or all different across them.\n",
    "        \n",
    "        def all_or_nothing(dimension,chosen_set_size):\n",
    "            \"\"\"\n",
    "        A function to compare a combination of cards across a dimension and evaluate whether\n",
    "        the values along that dimension are all the same, or are all different. \n",
    "\n",
    "            \"\"\"\n",
    "            if len(set(dimension))==1:\n",
    "                return True\n",
    "            elif len(set(dimension))==chosen_set_size:\n",
    "                return True\n",
    "            else:\n",
    "                return False\n",
    "        \n",
    "        \n",
    "        #get solution\n",
    "        \n",
    "        #generator object of all possible card combinations of the chosen set size.\n",
    "        self._card_combinations = combinations(self._cards,self._set_size) \n",
    "        \n",
    "        # zip combinations to compare along dimensions\n",
    "        self._zipped_combinations = [zip(*x) for x in copy(self._card_combinations)]\n",
    "        \n",
    "        \n",
    "        # evaluate whether any of the combinations are solutions and represent as a masked list\n",
    "        self._mask = (all(all_or_nothing(dim,self._set_size) for dim in comb) for comb in self._zipped_combinations)\n",
    "        \n",
    "        # iterate over the full combinations to pull out the solutions\n",
    "        self.get_Solution = [i for i,j in zip(self._card_combinations,self._mask) if j]\n",
    "        self.get_Solution_Table = DataFrame(data = self.get_Solution,columns=['Card '+str(i) for i in list(range(1,set_size+1))])\n"
   ]
  },
  {
   "cell_type": "code",
   "execution_count": null,
   "metadata": {
    "collapsed": false
   },
   "outputs": [],
   "source": []
  },
  {
   "cell_type": "code",
   "execution_count": null,
   "metadata": {
    "collapsed": false
   },
   "outputs": [],
   "source": [
    "class VisualSolution:\n",
    "    def __init__(self,set_soln=[],dimensions=[]):\n",
    "        \n",
    "        #validate inputs\n",
    "        \n",
    "        if len(set_soln)==0:\n",
    "            raise ValueError('No Solutions Available to visualize')\n",
    "        self._set_size = len(set_soln[0])\n",
    "    \n",
    "        #Visuals for particular graphics   \n",
    "        def _circle(arg):\n",
    "            return mpatches.Circle(grid[arg], 0.1, ec=\"none\")\n",
    "\n",
    "        def _rectangle(arg):\n",
    "            return mpatches.Rectangle(grid[arg] - [0.025, 0.05], 0.05, 0.1, ec=\"none\")\n",
    "\n",
    "        def _wedge(arg):\n",
    "            return mpatches.Wedge(grid[arg], 0.1, 30, 270, ec=\"none\")\n",
    "\n",
    "        def _ellipse(arg):\n",
    "            return mpatches.Ellipse(grid[arg], 0.2, 0.1)\n",
    "    \n",
    "        self._SHAPES = {'circle':_circle,'rectangle': _rectangle,'wedge':_wedge,'ellipse':_ellipse}\n",
    "        self._COLORS = {x:(1/8)*x for x in list(range(1,8+1))}\n",
    "        self._EDGE = {'none':0.0,'thin':2.5,'thick':20}\n",
    "        \n",
    "        \n",
    "        def _get_shape(shape_list):\n",
    "            return [self._SHAPES[shape](arg=pos) for pos,shape in enumerate(shape_list)]\n",
    "\n",
    "        def _get_color(color_list):\n",
    "            return [self._COLORS[idx] for idx in color_list]\n",
    "\n",
    "        def _get_edge(thickness_list):\n",
    "            return [self._EDGE[thickness] for thickness in thickness_list]\n",
    "\n",
    "        self._DIM_FUNCS =  {'shape':_get_shape,'color':_get_color,'edge':_get_edge}    \n",
    "        \n",
    "               \n",
    "        #generate the charts for this solution\n",
    "    \n",
    "        self._sections = self._set_size*1j #grids in matplotlib rely on complex numbers\n",
    "        grid = mgrid[0.2:0.8:self._sections, 0.2:0.8:1j].reshape(2, -1).T\n",
    "        \n",
    "        self._zipped_soln = (list(zip(*x)) for x in set_soln)\n",
    "        \n",
    "        # create charts\n",
    "        self._chart_list = []\n",
    "        for sol in self._zipped_soln:\n",
    "            self._chart_list.append(defaultdict(int,{y:self._DIM_FUNCS[y](sol[x]) for x,y in enumerate(dimensions)}))\n",
    "        \n",
    "        self.chart_list = self._chart_list\n",
    "    \n",
    "    "
   ]
  },
  {
   "cell_type": "code",
   "execution_count": null,
   "metadata": {
    "collapsed": false
   },
   "outputs": [],
   "source": [
    "# widget to display the table solution\n",
    "button = widgets.Button(description=\"View Solutions as a Table\")\n",
    "display(button)\n",
    "\n",
    "def on_button_clicked(b):\n",
    "    clear_output()\n",
    "    new_game = Game(dimensions=CARD_DIMENSIONS,deck_size=NUMBER_OF_CARDS)\n",
    "    soln = SetSolver(cards=new_game.cards,set_size=CARDS_IN_A_SET)\n",
    "    display(soln.get_Solution_Table)\n",
    "button.on_click(on_button_clicked)"
   ]
  },
  {
   "cell_type": "code",
   "execution_count": null,
   "metadata": {
    "collapsed": false
   },
   "outputs": [],
   "source": [
    "# widget to display the chart solutions\n",
    "button = widgets.Button(description=\"View Solutions as Charts\")\n",
    "display(button)\n",
    "\n",
    "def on_button_clicked(b):\n",
    "    clear_output()\n",
    "    CHARTABLE_DIMENSIONS = ['color','shape','edge']\n",
    "\n",
    "    if any([x not in CHARTABLE_DIMENSIONS for x in CARD_DIMENSIONS]):\n",
    "        print('Unchartable Dimensions')\n",
    "    new_game = Game(dimensions=CARD_DIMENSIONS,deck_size=NUMBER_OF_CARDS)\n",
    "    soln = SetSolver(cards=new_game.cards,set_size=CARDS_IN_A_SET)\n",
    "    charts = VisualSolution(set_soln=soln.get_Solution,dimensions=new_game.card_dimensions)\n",
    "    for charts in charts.chart_list:\n",
    "        fig, ax = plt.subplots(figsize=(6,4))\n",
    "        patches = charts['shape']\n",
    "        collection = PatchCollection(patches, alpha=0.3)\n",
    "        collection.set_array(array(charts['color']))\n",
    "        collection.set_clim([0, 1])\n",
    "        collection.set_linewidth(array(charts['edge']))\n",
    "        ax.add_collection(collection)\n",
    "        plt.subplots_adjust(left=0, right=3, bottom=0, top=1)\n",
    "        plt.axis('equal')\n",
    "        plt.axis('off')\n",
    "        plt.show()\n",
    "button.on_click(on_button_clicked)"
   ]
  }
 ],
 "metadata": {
  "kernelspec": {
   "display_name": "Python 3",
   "language": "python",
   "name": "python3"
  },
  "language_info": {
   "codemirror_mode": {
    "name": "ipython",
    "version": 3
   },
   "file_extension": ".py",
   "mimetype": "text/x-python",
   "name": "python",
   "nbconvert_exporter": "python",
   "pygments_lexer": "ipython3",
   "version": "3.4.3"
  }
 },
 "nbformat": 4,
 "nbformat_minor": 0
}
